{
 "cells": [
  {
   "cell_type": "markdown",
   "metadata": {},
   "source": [
    "# Dataset : News Headlines Dataset For Sarcasm Detection"
   ]
  },
  {
   "cell_type": "code",
   "execution_count": 1,
   "metadata": {},
   "outputs": [
    {
     "name": "stdout",
     "output_type": "stream",
     "text": [
      "Requirement already satisfied: opendatasets in c:\\python3\\lib\\site-packages (0.1.20)\n",
      "Requirement already satisfied: click in c:\\python3\\lib\\site-packages (from opendatasets) (7.1.2)\n",
      "Requirement already satisfied: kaggle in c:\\python3\\lib\\site-packages (from opendatasets) (1.5.12)\n",
      "Requirement already satisfied: tqdm in c:\\python3\\lib\\site-packages (from opendatasets) (4.48.0)\n",
      "Requirement already satisfied: requests in c:\\python3\\lib\\site-packages (from kaggle->opendatasets) (2.23.0)\n",
      "Requirement already satisfied: python-slugify in c:\\python3\\lib\\site-packages (from kaggle->opendatasets) (5.0.2)\n",
      "Requirement already satisfied: six>=1.10 in c:\\python3\\lib\\site-packages (from kaggle->opendatasets) (1.15.0)\n",
      "Requirement already satisfied: certifi in c:\\python3\\lib\\site-packages (from kaggle->opendatasets) (2019.11.28)\n",
      "Requirement already satisfied: urllib3 in c:\\python3\\lib\\site-packages (from kaggle->opendatasets) (1.25.8)\n",
      "Requirement already satisfied: python-dateutil in c:\\python3\\lib\\site-packages (from kaggle->opendatasets) (2.8.1)\n",
      "Requirement already satisfied: chardet<4,>=3.0.2 in c:\\python3\\lib\\site-packages (from requests->kaggle->opendatasets) (3.0.4)\n",
      "Requirement already satisfied: idna<3,>=2.5 in c:\\python3\\lib\\site-packages (from requests->kaggle->opendatasets) (2.9)\n",
      "Requirement already satisfied: text-unidecode>=1.3 in c:\\python3\\lib\\site-packages (from python-slugify->kaggle->opendatasets) (1.3)\n",
      "Note: you may need to restart the kernel to use updated packages.\n"
     ]
    }
   ],
   "source": [
    "%pip install opendatasets"
   ]
  },
  {
   "cell_type": "code",
   "execution_count": 2,
   "metadata": {},
   "outputs": [],
   "source": [
    "import opendatasets as od\n",
    "import pandas as pd"
   ]
  },
  {
   "cell_type": "code",
   "execution_count": 3,
   "metadata": {},
   "outputs": [
    {
     "name": "stdout",
     "output_type": "stream",
     "text": [
      "Skipping, found downloaded files in \".\\news-headlines-dataset-for-sarcasm-detection\" (use force=True to force download)\n"
     ]
    }
   ],
   "source": [
    "od.download('https://www.kaggle.com/rmisra/news-headlines-dataset-for-sarcasm-detection')"
   ]
  },
  {
   "cell_type": "code",
   "execution_count": 4,
   "metadata": {},
   "outputs": [],
   "source": [
    "data = pd.read_json('news-headlines-dataset-for-sarcasm-detection\\Sarcasm_Headlines_Dataset_v2.json', lines=True) #import data json for each line"
   ]
  },
  {
   "cell_type": "code",
   "execution_count": 5,
   "metadata": {},
   "outputs": [
    {
     "data": {
      "text/html": [
       "<div>\n",
       "<style scoped>\n",
       "    .dataframe tbody tr th:only-of-type {\n",
       "        vertical-align: middle;\n",
       "    }\n",
       "\n",
       "    .dataframe tbody tr th {\n",
       "        vertical-align: top;\n",
       "    }\n",
       "\n",
       "    .dataframe thead th {\n",
       "        text-align: right;\n",
       "    }\n",
       "</style>\n",
       "<table border=\"1\" class=\"dataframe\">\n",
       "  <thead>\n",
       "    <tr style=\"text-align: right;\">\n",
       "      <th></th>\n",
       "      <th>is_sarcastic</th>\n",
       "      <th>headline</th>\n",
       "      <th>article_link</th>\n",
       "    </tr>\n",
       "  </thead>\n",
       "  <tbody>\n",
       "    <tr>\n",
       "      <th>0</th>\n",
       "      <td>1</td>\n",
       "      <td>thirtysomething scientists unveil doomsday clo...</td>\n",
       "      <td>https://www.theonion.com/thirtysomething-scien...</td>\n",
       "    </tr>\n",
       "    <tr>\n",
       "      <th>1</th>\n",
       "      <td>0</td>\n",
       "      <td>dem rep. totally nails why congress is falling...</td>\n",
       "      <td>https://www.huffingtonpost.com/entry/donna-edw...</td>\n",
       "    </tr>\n",
       "    <tr>\n",
       "      <th>2</th>\n",
       "      <td>0</td>\n",
       "      <td>eat your veggies: 9 deliciously different recipes</td>\n",
       "      <td>https://www.huffingtonpost.com/entry/eat-your-...</td>\n",
       "    </tr>\n",
       "    <tr>\n",
       "      <th>3</th>\n",
       "      <td>1</td>\n",
       "      <td>inclement weather prevents liar from getting t...</td>\n",
       "      <td>https://local.theonion.com/inclement-weather-p...</td>\n",
       "    </tr>\n",
       "    <tr>\n",
       "      <th>4</th>\n",
       "      <td>1</td>\n",
       "      <td>mother comes pretty close to using word 'strea...</td>\n",
       "      <td>https://www.theonion.com/mother-comes-pretty-c...</td>\n",
       "    </tr>\n",
       "    <tr>\n",
       "      <th>...</th>\n",
       "      <td>...</td>\n",
       "      <td>...</td>\n",
       "      <td>...</td>\n",
       "    </tr>\n",
       "    <tr>\n",
       "      <th>28614</th>\n",
       "      <td>1</td>\n",
       "      <td>jews to celebrate rosh hashasha or something</td>\n",
       "      <td>https://www.theonion.com/jews-to-celebrate-ros...</td>\n",
       "    </tr>\n",
       "    <tr>\n",
       "      <th>28615</th>\n",
       "      <td>1</td>\n",
       "      <td>internal affairs investigator disappointed con...</td>\n",
       "      <td>https://local.theonion.com/internal-affairs-in...</td>\n",
       "    </tr>\n",
       "    <tr>\n",
       "      <th>28616</th>\n",
       "      <td>0</td>\n",
       "      <td>the most beautiful acceptance speech this week...</td>\n",
       "      <td>https://www.huffingtonpost.com/entry/andrew-ah...</td>\n",
       "    </tr>\n",
       "    <tr>\n",
       "      <th>28617</th>\n",
       "      <td>1</td>\n",
       "      <td>mars probe destroyed by orbiting spielberg-gat...</td>\n",
       "      <td>https://www.theonion.com/mars-probe-destroyed-...</td>\n",
       "    </tr>\n",
       "    <tr>\n",
       "      <th>28618</th>\n",
       "      <td>1</td>\n",
       "      <td>dad clarifies this not a food stop</td>\n",
       "      <td>https://www.theonion.com/dad-clarifies-this-no...</td>\n",
       "    </tr>\n",
       "  </tbody>\n",
       "</table>\n",
       "<p>28619 rows × 3 columns</p>\n",
       "</div>"
      ],
      "text/plain": [
       "       is_sarcastic                                           headline  \\\n",
       "0                 1  thirtysomething scientists unveil doomsday clo...   \n",
       "1                 0  dem rep. totally nails why congress is falling...   \n",
       "2                 0  eat your veggies: 9 deliciously different recipes   \n",
       "3                 1  inclement weather prevents liar from getting t...   \n",
       "4                 1  mother comes pretty close to using word 'strea...   \n",
       "...             ...                                                ...   \n",
       "28614             1       jews to celebrate rosh hashasha or something   \n",
       "28615             1  internal affairs investigator disappointed con...   \n",
       "28616             0  the most beautiful acceptance speech this week...   \n",
       "28617             1  mars probe destroyed by orbiting spielberg-gat...   \n",
       "28618             1                 dad clarifies this not a food stop   \n",
       "\n",
       "                                            article_link  \n",
       "0      https://www.theonion.com/thirtysomething-scien...  \n",
       "1      https://www.huffingtonpost.com/entry/donna-edw...  \n",
       "2      https://www.huffingtonpost.com/entry/eat-your-...  \n",
       "3      https://local.theonion.com/inclement-weather-p...  \n",
       "4      https://www.theonion.com/mother-comes-pretty-c...  \n",
       "...                                                  ...  \n",
       "28614  https://www.theonion.com/jews-to-celebrate-ros...  \n",
       "28615  https://local.theonion.com/internal-affairs-in...  \n",
       "28616  https://www.huffingtonpost.com/entry/andrew-ah...  \n",
       "28617  https://www.theonion.com/mars-probe-destroyed-...  \n",
       "28618  https://www.theonion.com/dad-clarifies-this-no...  \n",
       "\n",
       "[28619 rows x 3 columns]"
      ]
     },
     "execution_count": 5,
     "metadata": {},
     "output_type": "execute_result"
    }
   ],
   "source": [
    "data"
   ]
  },
  {
   "cell_type": "code",
   "execution_count": 6,
   "metadata": {},
   "outputs": [
    {
     "data": {
      "text/plain": [
       "<matplotlib.axes._subplots.AxesSubplot at 0x19ff19d6b80>"
      ]
     },
     "execution_count": 6,
     "metadata": {},
     "output_type": "execute_result"
    },
    {
     "data": {
      "image/png": "[encoded data removed]",
      "text/plain": [
       "<Figure size 432x288 with 1 Axes>"
      ]
     },
     "metadata": {
      "needs_background": "light"
     },
     "output_type": "display_data"
    }
   ],
   "source": [
    "import seaborn as sns\n",
    "import matplotlib.pyplot as plt\n",
    "sns.countplot(data['is_sarcastic'])"
   ]
  },
  {
   "cell_type": "code",
   "execution_count": 22,
   "metadata": {},
   "outputs": [],
   "source": [
    "from sklearn.model_selection import train_test_split\n",
    "x_train,x_test,y_train,y_test = train_test_split(data['headline'],data['is_sarcastic'],test_size=0.3,random_state=100)"
   ]
  },
  {
   "cell_type": "code",
   "execution_count": 23,
   "metadata": {},
   "outputs": [],
   "source": [
    "import tensorflow as tf\n",
    "from tensorflow.keras.preprocessing.text import Tokenizer\n",
    "from tensorflow.keras.preprocessing.sequence import pad_sequences"
   ]
  },
  {
   "cell_type": "code",
   "execution_count": 41,
   "metadata": {},
   "outputs": [],
   "source": [
    "token = Tokenizer(num_words =500,oov_token='<OOV>')\n",
    "token.fit_on_texts(x_train)\n",
    "training_sequences = token.texts_to_sequences(x_train)\n",
    "training_padded = pad_sequences(training_sequences,maxlen=100,padding='post',truncating='post')\n",
    "\n",
    "testing_sequences = token.texts_to_sequences(x_test)\n",
    "testing_padded = pad_sequences(testing_sequences,maxlen=100,padding='post',truncating='post')\n"
   ]
  },
  {
   "cell_type": "markdown",
   "metadata": {},
   "source": [
    "## Deep Learning Approach"
   ]
  },
  {
   "cell_type": "code",
   "execution_count": 42,
   "metadata": {},
   "outputs": [],
   "source": [
    "import numpy as np\n",
    "train_data = np.array(training_padded)\n",
    "train_labels = np.asarray(y_train)\n",
    "test_data = np.array(testing_padded)\n",
    "test_labels = np.asarray(y_test)\n",
    "\n"
   ]
  },
  {
   "cell_type": "code",
   "execution_count": 48,
   "metadata": {},
   "outputs": [],
   "source": [
    "from keras.models import Sequential\n",
    "from keras.layers import Embedding, Dense, LSTM,Bidirectional,GRU\n",
    "from keras.callbacks import EarlyStopping"
   ]
  },
  {
   "cell_type": "code",
   "execution_count": 73,
   "metadata": {},
   "outputs": [
    {
     "name": "stdout",
     "output_type": "stream",
     "text": [
      "Train on 20033 samples, validate on 8586 samples\n",
      "Epoch 1/20\n",
      "20033/20033 [==============================] - 218s 11ms/step - loss: 0.5683 - accuracy: 0.7661 - val_loss: 0.4087 - val_accuracy: 0.8119\n",
      "Epoch 2/20\n",
      "20033/20033 [==============================] - 219s 11ms/step - loss: 0.3901 - accuracy: 0.8124 - val_loss: 0.3964 - val_accuracy: 0.8166\n",
      "Epoch 3/20\n",
      "20033/20033 [==============================] - 214s 11ms/step - loss: 0.3727 - accuracy: 0.8231 - val_loss: 0.3900 - val_accuracy: 0.8130\n",
      "Epoch 4/20\n",
      "20033/20033 [==============================] - 220s 11ms/step - loss: 0.3635 - accuracy: 0.8301 - val_loss: 0.3903 - val_accuracy: 0.8141\n",
      "Epoch 5/20\n",
      "20033/20033 [==============================] - 222s 11ms/step - loss: 0.3559 - accuracy: 0.8317 - val_loss: 0.3887 - val_accuracy: 0.8153\n",
      "Epoch 6/20\n",
      "20033/20033 [==============================] - 220s 11ms/step - loss: 0.3533 - accuracy: 0.8354 - val_loss: 0.3880 - val_accuracy: 0.8232\n",
      "Epoch 7/20\n",
      "20033/20033 [==============================] - 221s 11ms/step - loss: 0.3444 - accuracy: 0.8379 - val_loss: 0.3873 - val_accuracy: 0.8182\n",
      "Epoch 8/20\n",
      "20033/20033 [==============================] - 218s 11ms/step - loss: 0.3397 - accuracy: 0.8420 - val_loss: 0.3836 - val_accuracy: 0.8235\n",
      "Epoch 9/20\n",
      "20033/20033 [==============================] - 250s 12ms/step - loss: 0.3313 - accuracy: 0.8470 - val_loss: 0.3908 - val_accuracy: 0.8192\n",
      "Epoch 10/20\n",
      "20033/20033 [==============================] - 258s 13ms/step - loss: 0.3276 - accuracy: 0.8460 - val_loss: 0.4009 - val_accuracy: 0.8119\n"
     ]
    }
   ],
   "source": [
    "model = Sequential()\n",
    "model.add(Embedding(500,100,input_length=100))\n",
    "model.add(Bidirectional(LSTM(units=128, recurrent_dropout = 0.2 , dropout = 0.2,return_sequences = True)))\n",
    "model.add(Bidirectional(GRU(units=64, recurrent_dropout = 0.1 , dropout = 0.1)))\n",
    "model.add(Dense(1,activation='sigmoid'))\n",
    "model.compile(loss='binary_crossentropy',optimizer='adam',metrics=['accuracy'])\n",
    "\n",
    "history = model.fit(train_data,train_labels,epochs=20,validation_data=(test_data,test_labels),callbacks=[EarlyStopping(monitor='val_loss', restore_best_weights=True,patience=2)])"
   ]
  },
  {
   "cell_type": "code",
   "execution_count": 108,
   "metadata": {},
   "outputs": [
    {
     "data": {
      "text/plain": [
       "array([[3780,  757],\n",
       "       [ 758, 3291]], dtype=int64)"
      ]
     },
     "execution_count": 108,
     "metadata": {},
     "output_type": "execute_result"
    }
   ],
   "source": [
    "from sklearn.metrics import confusion_matrix\n",
    "pred = model.predict(test_data)\n",
    "con_mat = confusion_matrix(test_labels,pred.round())\n",
    "con_mat"
   ]
  },
  {
   "cell_type": "code",
   "execution_count": 78,
   "metadata": {},
   "outputs": [
    {
     "data": {
      "text/plain": [
       "<matplotlib.axes._subplots.AxesSubplot at 0x19ffe3604f0>"
      ]
     },
     "execution_count": 78,
     "metadata": {},
     "output_type": "execute_result"
    },
    {
     "data": {
      "image/png": "[encoded data removed]",
      "text/plain": [
       "<Figure size 720x720 with 2 Axes>"
      ]
     },
     "metadata": {
      "needs_background": "light"
     },
     "output_type": "display_data"
    }
   ],
   "source": [
    "cm = pd.DataFrame(con_mat , index = ['Not Sarcastic','Sarcastic'] , columns = ['Not Sarcastic','Sarcastic'])\n",
    "plt.figure(figsize = (10,10))\n",
    "sns.heatmap(con_mat , linewidth = 1 , annot = True, fmt='d' , xticklabels = ['Not Sarcastic','Sarcastic'] , yticklabels = ['Not Sarcastic','Sarcastic'])"
   ]
  },
  {
   "cell_type": "markdown",
   "metadata": {},
   "source": [
    "## Prediction"
   ]
  },
  {
   "cell_type": "code",
   "execution_count": 163,
   "metadata": {},
   "outputs": [
    {
     "name": "stdout",
     "output_type": "stream",
     "text": [
      "News              : who owns the keys to your apple device? (hint: it may not be you)\n",
      "Is it Sarcastic ? : no\n",
      "Predicted Value   : no\n"
     ]
    }
   ],
   "source": [
    "headline_test = data.headline.sample()\n",
    "result_test = data.is_sarcastic[data.headline == headline_test.iloc[0]].iloc[0]\n",
    "pred_sequences = token.texts_to_sequences(headline_test)\n",
    "pred_padded = pad_sequences(pred_sequences,maxlen=100,padding='post',truncating='post')\n",
    "pred_padded = np.array(pred_padded)\n",
    "pred_result = model.predict(pred_padded)\n",
    "pred_result = pred_result[0][0].round().astype(int)\n",
    "print(\"News              : \"+headline_test.iloc[0])\n",
    "print(\"Is it Sarcastic ? : \"+(\"yes\" if result_test == 1 else \"no\"))\n",
    "print(\"Predicted Value   : \"+(\"yes\" if pred_result == 1 else \"no\"))"
   ]
  }
 ],
 "metadata": {
  "interpreter": {
   "hash": "ca585555a2867b459a38eaf8b2b47956aef7a6f770e52f1f5dfa1f8f05e57688"
  },
  "kernelspec": {
   "display_name": "Python 3.8.2 64-bit (system)",
   "language": "python",
   "name": "python3"
  },
  "language_info": {
   "codemirror_mode": {
    "name": "ipython",
    "version": 3
   },
   "file_extension": ".py",
   "mimetype": "text/x-python",
   "name": "python",
   "nbconvert_exporter": "python",
   "pygments_lexer": "ipython3",
   "version": "3.8.2"
  },
  "orig_nbformat": 4
 },
 "nbformat": 4,
 "nbformat_minor": 2
}
