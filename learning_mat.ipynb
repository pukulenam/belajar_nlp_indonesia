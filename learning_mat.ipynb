{
 "cells": [
  {
   "cell_type": "markdown",
   "metadata": {},
   "source": [
    "# Dataset : News Headlines Dataset For Sarcasm Detection"
   ]
  },
  {
   "cell_type": "markdown",
   "metadata": {},
   "source": [
    "### import library yang dibutuhkan \n"
   ]
  },
  {
   "cell_type": "code",
   "execution_count": 1,
   "metadata": {},
   "outputs": [
    {
     "name": "stderr",
     "output_type": "stream",
     "text": [
      "Using TensorFlow backend.\n"
     ]
    }
   ],
   "source": [
    "\n",
    "import pandas as pd\n",
    "import seaborn as sns\n",
    "import matplotlib.pyplot as plt\n",
    "from keras.models import Sequential\n",
    "from keras.layers import Embedding, Dense, LSTM,Bidirectional,GRU\n",
    "from keras.callbacks import EarlyStopping\n",
    "from sklearn.metrics import confusion_matrix"
   ]
  },
  {
   "cell_type": "markdown",
   "metadata": {},
   "source": [
    "Impor data yang sudah di download"
   ]
  },
  {
   "cell_type": "code",
   "execution_count": 2,
   "metadata": {},
   "outputs": [],
   "source": [
    "data = pd.read_json('news-headlines-dataset-for-sarcasm-detection\\Sarcasm_Headlines_Dataset_v2.json', lines=True) #import data json for each line"
   ]
  },
  {
   "cell_type": "markdown",
   "metadata": {},
   "source": [
    "### Data Understanding"
   ]
  },
  {
   "cell_type": "markdown",
   "metadata": {},
   "source": [
    "Berikut adalah keterangan data yang di download :\n",
    "- is_sarcastic  : apakah kalimat terebut mengandung sarkasme\n",
    "- headline      : kalimat pada suatu artikel\n",
    "- article_link  : link pada artikel tersebut"
   ]
  },
  {
   "cell_type": "code",
   "execution_count": 3,
   "metadata": {},
   "outputs": [
    {
     "data": {
      "text/html": [
       "<div>\n",
       "<style scoped>\n",
       "    .dataframe tbody tr th:only-of-type {\n",
       "        vertical-align: middle;\n",
       "    }\n",
       "\n",
       "    .dataframe tbody tr th {\n",
       "        vertical-align: top;\n",
       "    }\n",
       "\n",
       "    .dataframe thead th {\n",
       "        text-align: right;\n",
       "    }\n",
       "</style>\n",
       "<table border=\"1\" class=\"dataframe\">\n",
       "  <thead>\n",
       "    <tr style=\"text-align: right;\">\n",
       "      <th></th>\n",
       "      <th>is_sarcastic</th>\n",
       "      <th>headline</th>\n",
       "      <th>article_link</th>\n",
       "    </tr>\n",
       "  </thead>\n",
       "  <tbody>\n",
       "    <tr>\n",
       "      <th>0</th>\n",
       "      <td>1</td>\n",
       "      <td>thirtysomething scientists unveil doomsday clo...</td>\n",
       "      <td>https://www.theonion.com/thirtysomething-scien...</td>\n",
       "    </tr>\n",
       "    <tr>\n",
       "      <th>1</th>\n",
       "      <td>0</td>\n",
       "      <td>dem rep. totally nails why congress is falling...</td>\n",
       "      <td>https://www.huffingtonpost.com/entry/donna-edw...</td>\n",
       "    </tr>\n",
       "    <tr>\n",
       "      <th>2</th>\n",
       "      <td>0</td>\n",
       "      <td>eat your veggies: 9 deliciously different recipes</td>\n",
       "      <td>https://www.huffingtonpost.com/entry/eat-your-...</td>\n",
       "    </tr>\n",
       "    <tr>\n",
       "      <th>3</th>\n",
       "      <td>1</td>\n",
       "      <td>inclement weather prevents liar from getting t...</td>\n",
       "      <td>https://local.theonion.com/inclement-weather-p...</td>\n",
       "    </tr>\n",
       "    <tr>\n",
       "      <th>4</th>\n",
       "      <td>1</td>\n",
       "      <td>mother comes pretty close to using word 'strea...</td>\n",
       "      <td>https://www.theonion.com/mother-comes-pretty-c...</td>\n",
       "    </tr>\n",
       "    <tr>\n",
       "      <th>...</th>\n",
       "      <td>...</td>\n",
       "      <td>...</td>\n",
       "      <td>...</td>\n",
       "    </tr>\n",
       "    <tr>\n",
       "      <th>28614</th>\n",
       "      <td>1</td>\n",
       "      <td>jews to celebrate rosh hashasha or something</td>\n",
       "      <td>https://www.theonion.com/jews-to-celebrate-ros...</td>\n",
       "    </tr>\n",
       "    <tr>\n",
       "      <th>28615</th>\n",
       "      <td>1</td>\n",
       "      <td>internal affairs investigator disappointed con...</td>\n",
       "      <td>https://local.theonion.com/internal-affairs-in...</td>\n",
       "    </tr>\n",
       "    <tr>\n",
       "      <th>28616</th>\n",
       "      <td>0</td>\n",
       "      <td>the most beautiful acceptance speech this week...</td>\n",
       "      <td>https://www.huffingtonpost.com/entry/andrew-ah...</td>\n",
       "    </tr>\n",
       "    <tr>\n",
       "      <th>28617</th>\n",
       "      <td>1</td>\n",
       "      <td>mars probe destroyed by orbiting spielberg-gat...</td>\n",
       "      <td>https://www.theonion.com/mars-probe-destroyed-...</td>\n",
       "    </tr>\n",
       "    <tr>\n",
       "      <th>28618</th>\n",
       "      <td>1</td>\n",
       "      <td>dad clarifies this not a food stop</td>\n",
       "      <td>https://www.theonion.com/dad-clarifies-this-no...</td>\n",
       "    </tr>\n",
       "  </tbody>\n",
       "</table>\n",
       "<p>28619 rows × 3 columns</p>\n",
       "</div>"
      ],
      "text/plain": [
       "       is_sarcastic                                           headline  \\\n",
       "0                 1  thirtysomething scientists unveil doomsday clo...   \n",
       "1                 0  dem rep. totally nails why congress is falling...   \n",
       "2                 0  eat your veggies: 9 deliciously different recipes   \n",
       "3                 1  inclement weather prevents liar from getting t...   \n",
       "4                 1  mother comes pretty close to using word 'strea...   \n",
       "...             ...                                                ...   \n",
       "28614             1       jews to celebrate rosh hashasha or something   \n",
       "28615             1  internal affairs investigator disappointed con...   \n",
       "28616             0  the most beautiful acceptance speech this week...   \n",
       "28617             1  mars probe destroyed by orbiting spielberg-gat...   \n",
       "28618             1                 dad clarifies this not a food stop   \n",
       "\n",
       "                                            article_link  \n",
       "0      https://www.theonion.com/thirtysomething-scien...  \n",
       "1      https://www.huffingtonpost.com/entry/donna-edw...  \n",
       "2      https://www.huffingtonpost.com/entry/eat-your-...  \n",
       "3      https://local.theonion.com/inclement-weather-p...  \n",
       "4      https://www.theonion.com/mother-comes-pretty-c...  \n",
       "...                                                  ...  \n",
       "28614  https://www.theonion.com/jews-to-celebrate-ros...  \n",
       "28615  https://local.theonion.com/internal-affairs-in...  \n",
       "28616  https://www.huffingtonpost.com/entry/andrew-ah...  \n",
       "28617  https://www.theonion.com/mars-probe-destroyed-...  \n",
       "28618  https://www.theonion.com/dad-clarifies-this-no...  \n",
       "\n",
       "[28619 rows x 3 columns]"
      ]
     },
     "execution_count": 3,
     "metadata": {},
     "output_type": "execute_result"
    }
   ],
   "source": [
    "data"
   ]
  },
  {
   "cell_type": "markdown",
   "metadata": {},
   "source": [
    "membuat plot untuk mengetahui data sarcastic yang dibuat"
   ]
  },
  {
   "cell_type": "code",
   "execution_count": 4,
   "metadata": {},
   "outputs": [
    {
     "data": {
      "text/plain": [
       "<matplotlib.axes._subplots.AxesSubplot at 0x2214f47ae50>"
      ]
     },
     "execution_count": 4,
     "metadata": {},
     "output_type": "execute_result"
    },
    {
     "data": {
      "image/png": "[encoded data removed]",
      "text/plain": [
       "<Figure size 432x288 with 1 Axes>"
      ]
     },
     "metadata": {
      "needs_background": "light"
     },
     "output_type": "display_data"
    }
   ],
   "source": [
    "\n",
    "sns.countplot(data['is_sarcastic'])"
   ]
  },
  {
   "cell_type": "markdown",
   "metadata": {},
   "source": [
    "## Preprocessing"
   ]
  },
  {
   "cell_type": "markdown",
   "metadata": {},
   "source": [
    "mengimport library yang dibutuhkan  "
   ]
  },
  {
   "cell_type": "code",
   "execution_count": 5,
   "metadata": {},
   "outputs": [
    {
     "name": "stderr",
     "output_type": "stream",
     "text": [
      "[nltk_data] Downloading package wordnet to C:\\Users\\Alvin\n",
      "[nltk_data]     Buana\\AppData\\Roaming\\nltk_data...\n",
      "[nltk_data]   Package wordnet is already up-to-date!\n"
     ]
    }
   ],
   "source": [
    "import string\n",
    "import nltk\n",
    "import re\n",
    "from nltk.stem import WordNetLemmatizer\n",
    "\n",
    "nltk.download('wordnet')\n",
    "stopwords = nltk.corpus.stopwords.words('english')\n",
    "\n",
    "wordnet_lemmatizer = WordNetLemmatizer()"
   ]
  },
  {
   "cell_type": "markdown",
   "metadata": {},
   "source": [
    "Agar model dapat menerima data yang diberikan maka harus dilakukan pre-processing. Berikut adalah pre-processing yang dibuat dalam cell dibawah ini :\n",
    "- menghapus tanda baca\n",
    "- membuat semua text menjadi huruf kecil\n",
    "- menghapus baris baru\n",
    "- menghapus tab pada kalimat\n",
    "- menghapus space yang lebih\n",
    "- mengurangi text yang kurang bermakna\n",
    "- mengnormalisasi teks/kata dengan berdasarkan pada bentuk dasar yang merupakan bentuk lemma-nya"
   ]
  },
  {
   "cell_type": "code",
   "execution_count": 6,
   "metadata": {},
   "outputs": [],
   "source": [
    "data['clean_headline'] = data['headline'].apply(lambda x: ''.join([c for c in x if c not in string.punctuation]))\n",
    "data['clean_headline']=data['clean_headline'].apply(lambda x: x.lower())\n",
    "data['clean_headline'] = data['clean_headline'].apply(lambda x: x.replace('\\n', ' '))\n",
    "data['clean_headline'] = data['clean_headline'].apply(lambda x: x.replace('\\t', ' '))\n",
    "data['clean_headline'] = data['clean_headline'].apply(lambda x: re.sub(' +',' ',x))\n",
    "data['clean_headline'] = data['clean_headline'].apply(lambda x: ' '.join([word for word in x.split() if word not in (stopwords)]))\n",
    "data['clean_headline'] = data['clean_headline'].apply(lambda x: ' '.join([wordnet_lemmatizer.lemmatize(word) for word in x.split()]))"
   ]
  },
  {
   "cell_type": "markdown",
   "metadata": {},
   "source": [
    "### Data Preparation"
   ]
  },
  {
   "cell_type": "markdown",
   "metadata": {},
   "source": [
    "Data yang sudah dibersihkan harus dibagi menjadi dua, yaitu train data dan test data. Hal ini digunakan untuk melatih dan mengetes model yang sudah dibuat agar mendapat akurasi yang tepat dan model dapat digunakan pada dataset yang kurang dikenal."
   ]
  },
  {
   "cell_type": "code",
   "execution_count": 7,
   "metadata": {},
   "outputs": [],
   "source": [
    "from sklearn.model_selection import train_test_split\n",
    "x_train,x_test,y_train,y_test = train_test_split(data['clean_headline'],data['is_sarcastic'],test_size=0.3,random_state=100)"
   ]
  },
  {
   "cell_type": "markdown",
   "metadata": {},
   "source": [
    "Setelah dipisah antara train data dan text data, kedua data harus diubah menjadi angka agar diterima oleh model. Tokenizer pada cell dibawah digunakan  untuk membagi teks yang dapat berupa kalimat, paragraf atau dokumen, menjadi token-token/bagian-bagian tertentu. Hasil dari Tokenizer adalah berupa sequences yang berisi angka. Pad_sequences pada cell dibawah digunakan untuk menyamakan sequences dari hasil tokenizer karena hasil sequences pada tokenizer memiliki size yang berbeda - beda. Oleh karena itu size pada sequences harus diatur agar dapat diterima oleh model."
   ]
  },
  {
   "cell_type": "code",
   "execution_count": 8,
   "metadata": {},
   "outputs": [],
   "source": [
    "import tensorflow as tf\n",
    "from tensorflow.keras.preprocessing.text import Tokenizer\n",
    "from tensorflow.keras.preprocessing.sequence import pad_sequences"
   ]
  },
  {
   "cell_type": "code",
   "execution_count": 9,
   "metadata": {},
   "outputs": [],
   "source": [
    "token = Tokenizer(num_words =500,oov_token='<OOV>')\n",
    "token.fit_on_texts(x_train)\n",
    "training_sequences = token.texts_to_sequences(x_train)\n",
    "training_padded = pad_sequences(training_sequences,maxlen=100,padding='post',truncating='post')\n",
    "\n",
    "testing_sequences = token.texts_to_sequences(x_test)\n",
    "testing_padded = pad_sequences(testing_sequences,maxlen=100,padding='post',truncating='post')\n"
   ]
  },
  {
   "cell_type": "code",
   "execution_count": 11,
   "metadata": {},
   "outputs": [],
   "source": [
    "import numpy as np\n",
    "train_data = np.array(training_padded)\n",
    "train_labels = np.asarray(y_train)\n",
    "test_data = np.array(testing_padded)\n",
    "test_labels = np.asarray(y_test)"
   ]
  },
  {
   "cell_type": "code",
   "execution_count": 13,
   "metadata": {},
   "outputs": [
    {
     "name": "stdout",
     "output_type": "stream",
     "text": [
      "['/device:CPU:0', '/device:XLA_CPU:0']\n"
     ]
    }
   ],
   "source": [
    "from tensorflow.python.client import device_lib\n",
    "\n",
    "def get_available_devices():\n",
    "    local_device_protos = device_lib.list_local_devices()\n",
    "    return [x.name for x in local_device_protos]\n",
    "\n",
    "print(get_available_devices())"
   ]
  },
  {
   "cell_type": "markdown",
   "metadata": {},
   "source": [
    "## Deep Learning Approach"
   ]
  },
  {
   "cell_type": "markdown",
   "metadata": {},
   "source": [
    "## Using Bidirectional LSTM"
   ]
  },
  {
   "cell_type": "markdown",
   "metadata": {},
   "source": [
    "Setelah data melalui proses data preparation, data diubah menjadi array agar dapat diterima juga oleh model."
   ]
  },
  {
   "cell_type": "markdown",
   "metadata": {},
   "source": [
    "Setelah data sudah dibuat menjadi array, model neural network siap dibuatkan. Dari sini, model dibuat dengan embedding layer dan bidirectional LSTM layer. Agar lebih jelas, Embedding layer digunakan untuk mengencode kembali data yang sudah diberikan. Kemudian bidirectional LSTM merupakan model LSTM yang bergerak secara duah arah sehingga model yang dilalui tentu bisa diproses dengan dua arah.\n",
    "\n",
    "![LSTM](https://d1zx6djv3kb1v7.cloudfront.net/wp-content/media/2019/05/Deep-Dive-into-Bidirectional-LSTM-i2tutorials.jpg \"Bidirectional LSTM\")"
   ]
  },
  {
   "cell_type": "code",
   "execution_count": 16,
   "metadata": {},
   "outputs": [
    {
     "name": "stderr",
     "output_type": "stream",
     "text": [
      "C:\\Python3\\lib\\site-packages\\tensorflow\\python\\framework\\indexed_slices.py:433: UserWarning: Converting sparse IndexedSlices to a dense Tensor of unknown shape. This may consume a large amount of memory.\n",
      "  warnings.warn(\n"
     ]
    },
    {
     "name": "stdout",
     "output_type": "stream",
     "text": [
      "Train on 20033 samples, validate on 8586 samples\n",
      "Epoch 1/20\n",
      "20033/20033 [==============================] - 64s 3ms/step - loss: 0.5832 - accuracy: 0.6822 - val_loss: 0.5311 - val_accuracy: 0.7253\n",
      "Epoch 2/20\n",
      "20033/20033 [==============================] - 62s 3ms/step - loss: 0.5196 - accuracy: 0.7298 - val_loss: 0.5194 - val_accuracy: 0.7312\n",
      "Epoch 3/20\n",
      "20033/20033 [==============================] - 61s 3ms/step - loss: 0.5012 - accuracy: 0.7385 - val_loss: 0.5209 - val_accuracy: 0.7289\n",
      "Epoch 4/20\n",
      "20033/20033 [==============================] - 57s 3ms/step - loss: 0.4912 - accuracy: 0.7425 - val_loss: 0.5120 - val_accuracy: 0.7314\n",
      "Epoch 5/20\n",
      "20033/20033 [==============================] - 59s 3ms/step - loss: 0.4834 - accuracy: 0.7461 - val_loss: 0.5158 - val_accuracy: 0.7335\n",
      "Epoch 6/20\n",
      "20033/20033 [==============================] - 61s 3ms/step - loss: 0.4742 - accuracy: 0.7528 - val_loss: 0.5095 - val_accuracy: 0.7328\n",
      "Epoch 7/20\n",
      "20033/20033 [==============================] - 62s 3ms/step - loss: 0.4662 - accuracy: 0.7567 - val_loss: 0.5120 - val_accuracy: 0.7317\n",
      "Epoch 8/20\n",
      "20033/20033 [==============================] - 59s 3ms/step - loss: 0.4633 - accuracy: 0.7571 - val_loss: 0.5201 - val_accuracy: 0.7310\n"
     ]
    }
   ],
   "source": [
    "model = Sequential()\n",
    "model.add(Embedding(500,100,input_length=100)) # data diencode kembali dalam proses ini.\n",
    "model.add(Bidirectional(LSTM(units=32, recurrent_dropout = 0.2 , dropout = 0.2, return_sequences=True))) \n",
    "model.add(Bidirectional(LSTM(units=8, recurrent_dropout = 0.2 , dropout = 0.2)))\n",
    "\n",
    "model.add(Dense(1,activation='sigmoid'))\n",
    "model.compile(loss='binary_crossentropy',optimizer='adam',metrics=['accuracy'])\n",
    "\n",
    "history = model.fit(train_data,train_labels,epochs=20,validation_data=(test_data,test_labels),callbacks=[EarlyStopping(monitor='val_loss', restore_best_weights=True,patience=5)])"
   ]
  },
  {
   "cell_type": "markdown",
   "metadata": {},
   "source": [
    "### Model Evaluation"
   ]
  },
  {
   "cell_type": "markdown",
   "metadata": {},
   "source": [
    "Model yang sudah dibuat akan dievaluasikan. untuk dataset ini, *confusion matrix* lebih bisa diandalkan sebagai metrik dikarenakan kita bisa melihat seberapa banyak error yang terjadi saat melakukan prediksi pada data tes."
   ]
  },
  {
   "cell_type": "code",
   "execution_count": 43,
   "metadata": {},
   "outputs": [
    {
     "data": {
      "text/plain": [
       "array([[3897,  640],\n",
       "       [1660, 2389]], dtype=int64)"
      ]
     },
     "execution_count": 43,
     "metadata": {},
     "output_type": "execute_result"
    }
   ],
   "source": [
    "\n",
    "pred = model.predict(test_data)\n",
    "con_mat = confusion_matrix(test_labels,pred.round())\n",
    "con_mat"
   ]
  },
  {
   "cell_type": "markdown",
   "metadata": {},
   "source": [
    "*Confusion Matrix* adalah sebuah metrik dari scikit-learn yang digunakan untuk membandingkan nilai aktual dengan nilai prediksi. Metrik ini lebih sering digunakan untuk masalah klasifikasi. Hasil dari confusion matrix adalah mengeluarkan sebuah tabel yang akan menunjukan total error yang didapat oleh model.\n",
    "\n",
    "![Confusion Matrix](https://www.interhit.org/wp-content/uploads/2021/02/Cara-mengevaluasi-model-Anda-menggunakan-Confusion-Matrix.png)\n",
    "\n",
    "Berikut adalah penjelasan dari setiap isi dari tabel tersebut :\n",
    "- ***True Posisitve(TP)***  : Terjadi apabila hasil prediksi bernilai positif (1) dan sesuai dengan data yang sebenarnya (1)\n",
    "- ***False Posisitve(FP)*** : Terjadi apabila hasil prediksi bernilai positif (1) tetapi tidak sesuai dengan data yang sebenarnya (0)\n",
    "- ***True Negative(TN)***   : Terjadi apabila hasil prediksi bernilai negatif (0) dan sesuai dengan data yang sebenarnya (0)\n",
    "- ***False Negative(FN)***  : Terjadi apabila hasil prediksi bernilai negatif (0) tetapi tidak sesuai dengan data yang sebenarnya (1)\n"
   ]
  },
  {
   "cell_type": "code",
   "execution_count": 14,
   "metadata": {},
   "outputs": [
    {
     "data": {
      "text/plain": [
       "<matplotlib.axes._subplots.AxesSubplot at 0x141800c5730>"
      ]
     },
     "execution_count": 14,
     "metadata": {},
     "output_type": "execute_result"
    },
    {
     "data": {
      "image/png": "[encoded data removed]",
      "text/plain": [
       "<Figure size 720x720 with 2 Axes>"
      ]
     },
     "metadata": {
      "needs_background": "light"
     },
     "output_type": "display_data"
    }
   ],
   "source": [
    "cm = pd.DataFrame(con_mat , index = ['Not Sarcastic','Sarcastic'] , columns = ['Not Sarcastic','Sarcastic'])\n",
    "plt.figure(figsize = (10,10))\n",
    "sns.heatmap(con_mat , linewidth = 1 , annot = True, fmt='d' , xticklabels = ['Not Sarcastic','Sarcastic'] , yticklabels = ['Not Sarcastic','Sarcastic'])"
   ]
  },
  {
   "cell_type": "markdown",
   "metadata": {},
   "source": [
    "## Using GRU"
   ]
  },
  {
   "cell_type": "markdown",
   "metadata": {},
   "source": [
    "GRU adalah gated recurrent unit yang merupakan bagian dari recurrent neural network. GRU layer mirip dengan LSTM tetapi lebih ringan untuk sisi strukturnya karena gate yang digunakan oleh GRU layer hanya 2 gate yaitu update dan reset. Berikut adalah penjelasan setiap gate :\n",
    "- Update Gate : mengambil bagian yang perlu diingat\n",
    "- Forget Gate : melupakan bagian yang tidak perlu\n",
    "\n",
    "![GRU](https://www.researchgate.net/profile/Yizhou-Yu-2/publication/301648210/figure/fig2/AS:667816889962500@1536231362452/The-internal-structure-of-a-gate-recurrent-unit-GRU.png \"GRU\")"
   ]
  },
  {
   "cell_type": "code",
   "execution_count": 23,
   "metadata": {},
   "outputs": [
    {
     "name": "stderr",
     "output_type": "stream",
     "text": [
      "C:\\Python3\\lib\\site-packages\\tensorflow\\python\\framework\\indexed_slices.py:433: UserWarning: Converting sparse IndexedSlices to a dense Tensor of unknown shape. This may consume a large amount of memory.\n",
      "  warnings.warn(\n"
     ]
    },
    {
     "name": "stdout",
     "output_type": "stream",
     "text": [
      "Train on 20033 samples, validate on 8586 samples\n",
      "Epoch 1/20\n",
      "20033/20033 [==============================] - 219s 11ms/step - loss: 17538.0753 - accuracy: 0.6821 - val_loss: 0.5620 - val_accuracy: 0.7025\n",
      "Epoch 2/20\n",
      "20033/20033 [==============================] - 227s 11ms/step - loss: 0.5357 - accuracy: 0.7109 - val_loss: 0.5499 - val_accuracy: 0.7035\n",
      "Epoch 3/20\n",
      "20033/20033 [==============================] - 222s 11ms/step - loss: 0.5265 - accuracy: 0.7194 - val_loss: 0.5463 - val_accuracy: 0.7063\n",
      "Epoch 4/20\n",
      "20033/20033 [==============================] - 221s 11ms/step - loss: 0.5209 - accuracy: 0.7222 - val_loss: 0.5440 - val_accuracy: 0.7063\n",
      "Epoch 5/20\n",
      "20033/20033 [==============================] - 221s 11ms/step - loss: 0.5171 - accuracy: 0.7248 - val_loss: 0.5410 - val_accuracy: 0.7114\n",
      "Epoch 6/20\n",
      "20033/20033 [==============================] - 218s 11ms/step - loss: 0.5121 - accuracy: 0.7301 - val_loss: 0.5406 - val_accuracy: 0.7113\n",
      "Epoch 7/20\n",
      "20033/20033 [==============================] - 212s 11ms/step - loss: 0.5108 - accuracy: 0.7301 - val_loss: 0.5380 - val_accuracy: 0.7130\n",
      "Epoch 8/20\n",
      "20033/20033 [==============================] - 214s 11ms/step - loss: 0.5070 - accuracy: 0.7337 - val_loss: 0.5348 - val_accuracy: 0.7155\n",
      "Epoch 9/20\n",
      "20033/20033 [==============================] - 214s 11ms/step - loss: 0.5057 - accuracy: 0.7320 - val_loss: 0.5350 - val_accuracy: 0.7145\n",
      "Epoch 10/20\n",
      "20033/20033 [==============================] - 212s 11ms/step - loss: 0.5027 - accuracy: 0.7341 - val_loss: 0.5345 - val_accuracy: 0.7148\n",
      "Epoch 11/20\n",
      "20033/20033 [==============================] - 212s 11ms/step - loss: 0.5022 - accuracy: 0.7360 - val_loss: 0.5321 - val_accuracy: 0.7165\n",
      "Epoch 12/20\n",
      "20033/20033 [==============================] - 212s 11ms/step - loss: 3539.5101 - accuracy: 0.7166 - val_loss: 0.5918 - val_accuracy: 0.6663\n",
      "Epoch 13/20\n",
      "20033/20033 [==============================] - 211s 11ms/step - loss: 93.9669 - accuracy: 0.6776 - val_loss: 0.5522 - val_accuracy: 0.7117\n",
      "Epoch 14/20\n",
      "20033/20033 [==============================] - 211s 11ms/step - loss: 0.5252 - accuracy: 0.7242 - val_loss: 0.5413 - val_accuracy: 0.7102\n",
      "Epoch 15/20\n",
      "20033/20033 [==============================] - 210s 10ms/step - loss: 0.5150 - accuracy: 0.7259 - val_loss: 0.5391 - val_accuracy: 0.7109\n",
      "Epoch 16/20\n",
      "20033/20033 [==============================] - 211s 11ms/step - loss: 0.5084 - accuracy: 0.7361 - val_loss: 0.5370 - val_accuracy: 0.7141\n"
     ]
    }
   ],
   "source": [
    "model = Sequential()\n",
    "model.add(Embedding(500,100,input_length=100)) \n",
    "model.add(Bidirectional(GRU(units=128, recurrent_dropout = 0.2 , dropout = 0.2,return_sequences=True)))\n",
    "model.add(Bidirectional(GRU(units=64, recurrent_dropout = 0.2 , dropout = 0.2)))\n",
    "model.add(Dense(1,activation='sigmoid'))\n",
    "model.compile(loss='binary_crossentropy',optimizer='adam',metrics=['accuracy'])\n",
    "\n",
    "history = model.fit(train_data,train_labels,epochs=20,validation_data=(test_data,test_labels),callbacks=[EarlyStopping(monitor='val_loss', restore_best_weights=True,patience=5)])"
   ]
  },
  {
   "cell_type": "markdown",
   "metadata": {},
   "source": [
    "## Prediction"
   ]
  },
  {
   "cell_type": "markdown",
   "metadata": {},
   "source": [
    "Setelah melakukan evaluasi dan menemukan bahwa hasil evaluasi baik maka model siap untuk digunakan untuk prediksi. Berikut kita mengambil sample secara acak pada dataset lalu diprediksi oleh model."
   ]
  },
  {
   "cell_type": "code",
   "execution_count": 164,
   "metadata": {},
   "outputs": [
    {
     "name": "stdout",
     "output_type": "stream",
     "text": [
      "News              : academy to give runners-up detailed progress reports outlining where stars can improve\n",
      "True Value        : yes\n",
      "Predicted Value   : yes\n"
     ]
    }
   ],
   "source": [
    "headline_test = data.headline.sample()\n",
    "result_test = data.is_sarcastic[data.headline == headline_test.iloc[0]].iloc[0]\n",
    "pred_sequences = token.texts_to_sequences(headline_test)\n",
    "pred_padded = pad_sequences(pred_sequences,maxlen=100,padding='post',truncating='post')\n",
    "pred_padded = np.array(pred_padded)\n",
    "pred_result = model.predict(pred_padded)\n",
    "pred_result = pred_result[0][0].round().astype(int)\n",
    "print(\"News              : \"+headline_test.iloc[0])\n",
    "print(\"True Value        : \"+(\"yes\" if result_test == 1 else \"no\"))\n",
    "print(\"Predicted Value   : \"+(\"yes\" if pred_result == 1 else \"no\"))"
   ]
  }
 ],
 "metadata": {
  "interpreter": {
   "hash": "ca585555a2867b459a38eaf8b2b47956aef7a6f770e52f1f5dfa1f8f05e57688"
  },
  "kernelspec": {
   "display_name": "Python 3.8.2 64-bit (system)",
   "language": "python",
   "name": "python3"
  },
  "language_info": {
   "codemirror_mode": {
    "name": "ipython",
    "version": 3
   },
   "file_extension": ".py",
   "mimetype": "text/x-python",
   "name": "python",
   "nbconvert_exporter": "python",
   "pygments_lexer": "ipython3",
   "version": "3.8.2"
  },
  "orig_nbformat": 4
 },
 "nbformat": 4,
 "nbformat_minor": 2
}
